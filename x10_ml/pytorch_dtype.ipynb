{
 "cells": [
  {
   "cell_type": "code",
   "execution_count": 66,
   "outputs": [],
   "source": [
    "\"\"\"\n",
    "pytorch基础入门教程/一小时学会pytorch\n",
    "https://blog.csdn.net/weixin_41070748/article/details/89890330\n",
    "\"\"\"\n",
    "import torch"
   ],
   "metadata": {
    "collapsed": false,
    "pycharm": {
     "name": "#%%\n"
    }
   }
  },
  {
   "cell_type": "code",
   "execution_count": 67,
   "outputs": [],
   "source": [
    "torch.empty(3, 2)  # 约 0 张量\n",
    "torch.rand(2, 4)  # 0 ~ 1 张量\n",
    "torch.rand(2, 4)  # all 1 张量\n",
    "torch.zeros(4, 2, dtype=torch.long)  # 0 张量\n",
    "x = torch.tensor([5.5, 3])  # 张量"
   ],
   "metadata": {
    "collapsed": false,
    "pycharm": {
     "name": "#%%\n"
    }
   }
  },
  {
   "cell_type": "code",
   "execution_count": 68,
   "outputs": [
    {
     "data": {
      "text/plain": "tensor([[1., 1., 1.],\n        [1., 1., 1.]], dtype=torch.float64)"
     },
     "execution_count": 68,
     "metadata": {},
     "output_type": "execute_result"
    }
   ],
   "source": [
    "x.new_ones(2, 3, dtype=torch.double)"
   ],
   "metadata": {
    "collapsed": false,
    "pycharm": {
     "name": "#%%\n"
    }
   }
  },
  {
   "cell_type": "code",
   "execution_count": 109,
   "outputs": [
    {
     "data": {
      "text/plain": "tensor([0.0506, 0.0285])"
     },
     "execution_count": 109,
     "metadata": {},
     "output_type": "execute_result"
    }
   ],
   "source": [
    "torch.randn_like(x, dtype=torch.float)  # 不变IJ 随机 override"
   ],
   "metadata": {
    "collapsed": false,
    "pycharm": {
     "name": "#%%\n"
    }
   }
  },
  {
   "cell_type": "code",
   "execution_count": 110,
   "outputs": [
    {
     "data": {
      "text/plain": "torch.Size([2])"
     },
     "execution_count": 110,
     "metadata": {},
     "output_type": "execute_result"
    }
   ],
   "source": [
    "x.size()"
   ],
   "metadata": {
    "collapsed": false,
    "pycharm": {
     "name": "#%%\n"
    }
   }
  },
  {
   "cell_type": "code",
   "execution_count": 147,
   "outputs": [
    {
     "data": {
      "text/plain": "(tensor([[2., 2., 2.],\n         [2., 2., 2.]]),\n tensor([[2., 2., 2.],\n         [2., 2., 2.]]),\n tensor([[4., 4., 4.],\n         [4., 4., 4.]]))"
     },
     "execution_count": 147,
     "metadata": {},
     "output_type": "execute_result"
    }
   ],
   "source": [
    "# 运算\n",
    "x = torch.zeros(2, 3)\n",
    "y = torch.tensor(2)\n",
    "\n",
    "x + y, x.add_(y), torch.add(x, y)"
   ],
   "metadata": {
    "collapsed": false,
    "pycharm": {
     "name": "#%%\n"
    }
   }
  },
  {
   "cell_type": "code",
   "execution_count": 153,
   "outputs": [
    {
     "data": {
      "text/plain": "(tensor([2., 2.]),\n array([[2., 2., 2.],\n        [2., 2., 2.]], dtype=float32))"
     },
     "execution_count": 153,
     "metadata": {},
     "output_type": "execute_result"
    }
   ],
   "source": [
    "x[:, 1], x.numpy()"
   ],
   "metadata": {
    "collapsed": false,
    "pycharm": {
     "name": "#%%\n"
    }
   }
  },
  {
   "cell_type": "code",
   "execution_count": 212,
   "outputs": [
    {
     "data": {
      "text/plain": "(tensor([[-0.0852,  1.5737],\n         [ 0.2983,  0.6377]], requires_grad=True),\n tensor([[0.0073, 2.4766],\n         [0.0890, 0.4067]], grad_fn=<MulBackward0>),\n tensor(2.9794, grad_fn=<SumBackward0>),\n <SumBackward0 at 0x27a603367d0>,\n None)"
     },
     "execution_count": 212,
     "metadata": {},
     "output_type": "execute_result"
    }
   ],
   "source": [
    "a = torch.randn(2, 2, requires_grad=True)\n",
    "# a.requires_grad_(True)\n",
    "b = (a * a).sum()  # b依赖a，a要先grad\n",
    "a, a * a, b, b.grad_fn, b.grad"
   ],
   "metadata": {
    "collapsed": false,
    "pycharm": {
     "name": "#%%\n"
    }
   }
  },
  {
   "cell_type": "code",
   "execution_count": 217,
   "outputs": [
    {
     "data": {
      "text/plain": "(tensor([[1.1386, 1.0869, 0.9224],\n         [0.6802, 0.6149, 0.4841],\n         [1.1407, 1.0530, 0.8544],\n         [1.0089, 0.8756, 0.6474]]),\n tensor([1.1386, 1.0869, 0.9224, 0.6802, 0.6149, 0.4841, 1.1407, 1.0530, 0.8544,\n         1.0089, 0.8756, 0.6474]))"
     },
     "execution_count": 217,
     "metadata": {},
     "output_type": "execute_result"
    }
   ],
   "source": [
    "a = torch.matmul(torch.rand(4, 2), torch.rand(2, 3))  # 矩阵 乘法，mul => matmul\n",
    "\n",
    "a, a.view(-1)  # 拍成 一维"
   ],
   "metadata": {
    "collapsed": false,
    "pycharm": {
     "name": "#%%\n"
    }
   }
  },
  {
   "cell_type": "code",
   "execution_count": 221,
   "outputs": [
    {
     "data": {
      "text/plain": "tensor([[[[ 0.4614, -0.8068, -0.2438, -0.5513, -0.0028],\n          [ 0.0667, -0.6298,  0.4750,  0.5933, -2.3629],\n          [-0.9809, -0.0284, -0.4637,  0.6255, -0.7987],\n          [-0.6900, -0.7163, -0.6089, -0.6710, -0.1413],\n          [ 0.3417, -0.6814,  2.2008, -0.3490, -0.6435]]],\n\n\n        [[[-0.5305, -0.5723, -0.4177,  1.3227,  0.1000],\n          [ 0.4086,  0.5589, -0.0355,  0.0661,  0.3269],\n          [-0.8407,  0.5186,  0.5709,  1.4014, -1.7009],\n          [ 0.8866, -0.4041, -0.8929,  0.7714,  0.8958],\n          [ 1.4706,  0.3797,  1.3271,  0.4659,  0.6642]]]])"
     },
     "execution_count": 221,
     "metadata": {},
     "output_type": "execute_result"
    }
   ],
   "source": [
    "torch.randn(2, 1, 5, 5)"
   ],
   "metadata": {
    "collapsed": false,
    "pycharm": {
     "name": "#%%\n"
    }
   }
  },
  {
   "cell_type": "code",
   "execution_count": 248,
   "outputs": [
    {
     "data": {
      "text/plain": "(tensor([[[ 0.5566, -0.8171, -0.6785, -0.3972],\n          [ 0.4530,  1.7278, -2.0461, -1.8756],\n          [-1.0620,  0.0249,  0.5052,  0.6822]],\n \n         [[-0.4782, -0.6567,  0.4541, -1.6549],\n          [ 0.5557,  1.3050, -0.5859, -0.9273],\n          [ 1.4149,  0.1985, -0.7836, -0.2760]]]),\n tensor([[[ 0.5566, -0.8171, -0.6785, -0.3972,  0.4530,  1.7278, -2.0461,\n           -1.8756, -1.0620,  0.0249,  0.5052,  0.6822, -0.4782, -0.6567,\n            0.4541, -1.6549,  0.5557,  1.3050, -0.5859, -0.9273,  1.4149,\n            0.1985, -0.7836, -0.2760]]]))"
     },
     "execution_count": 248,
     "metadata": {},
     "output_type": "execute_result"
    }
   ],
   "source": [
    "x = torch.randn(2, 3, 4)\n",
    "x, x.view(1, 1, -1)"
   ],
   "metadata": {
    "collapsed": false,
    "pycharm": {
     "name": "#%%\n"
    }
   }
  }
 ],
 "metadata": {
  "kernelspec": {
   "display_name": "Python 3",
   "language": "python",
   "name": "python3"
  },
  "language_info": {
   "codemirror_mode": {
    "name": "ipython",
    "version": 2
   },
   "file_extension": ".py",
   "mimetype": "text/x-python",
   "name": "python",
   "nbconvert_exporter": "python",
   "pygments_lexer": "ipython2",
   "version": "2.7.6"
  }
 },
 "nbformat": 4,
 "nbformat_minor": 0
}
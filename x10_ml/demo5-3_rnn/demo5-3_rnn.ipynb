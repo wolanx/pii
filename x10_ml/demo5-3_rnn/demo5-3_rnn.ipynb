{
 "cells": [
  {
   "cell_type": "code",
   "execution_count": null,
   "metadata": {
    "collapsed": true,
    "pycharm": {
     "name": "#%%\n"
    }
   },
   "outputs": [],
   "source": [
    "forget_layer = candidate_layer = input_layer = output_layer = tanh = lambda a: a\n",
    "\n",
    "\n",
    "def LSTMCell(prev_ct, prev_ht, input):\n",
    "    combine = prev_ht + input\n",
    "    ft = forget_layer(combine)\n",
    "    candidate = candidate_layer(combine)\n",
    "    it = input_layer(combine)\n",
    "    ct = prev_ct * ft + candidate * it\n",
    "    ot = output_layer(combine)\n",
    "    ht = ot * tanh(ct)\n",
    "    return ht, ct\n",
    "\n",
    "\n",
    "ct = [0, 0, 0]\n",
    "ht = [0, 0, 0]\n",
    "inputs = []\n",
    "for input in inputs:\n",
    "    ct, ht = LSTMCell(ct, ht, input)"
   ]
  }
 ],
 "metadata": {
  "kernelspec": {
   "display_name": "Python 3",
   "language": "python",
   "name": "python3"
  },
  "language_info": {
   "codemirror_mode": {
    "name": "ipython",
    "version": 2
   },
   "file_extension": ".py",
   "mimetype": "text/x-python",
   "name": "python",
   "nbconvert_exporter": "python",
   "pygments_lexer": "ipython2",
   "version": "2.7.6"
  }
 },
 "nbformat": 4,
 "nbformat_minor": 0
}
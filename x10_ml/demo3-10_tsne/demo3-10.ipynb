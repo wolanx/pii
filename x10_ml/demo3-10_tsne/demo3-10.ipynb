{
 "cells": [
  {
   "cell_type": "markdown",
   "metadata": {
    "pycharm": {
     "name": "#%% md\n"
    }
   },
   "source": [
    "## tsne 表征学习\n",
    "- t-SNE\n",
    "- 聚类结果可视化\n",
    "- sklearn.manifold.TSNE"
   ]
  },
  {
   "cell_type": "code",
   "execution_count": 9,
   "metadata": {
    "pycharm": {
     "name": "#%%\n"
    }
   },
   "outputs": [
    {
     "name": "stdout",
     "output_type": "stream",
     "text": [
      "Using cuda device\n"
     ]
    }
   ],
   "source": [
    "import matplotlib.pyplot as plt\n",
    "import pandas as pd\n",
    "import torch\n",
    "import torch.nn.functional as F\n",
    "import torchvision\n",
    "import torchvision.transforms as transforms\n",
    "from sklearn import datasets\n",
    "from sklearn.manifold import TSNE\n",
    "from torch import nn\n",
    "from torch.optim.lr_scheduler import StepLR\n",
    "from torch.utils.data import DataLoader\n",
    "\n",
    "device = \"cuda\" if torch.cuda.is_available() else \"cpu\"\n",
    "print(f\"Using {device} device\")"
   ]
  },
  {
   "cell_type": "code",
   "execution_count": 2,
   "metadata": {
    "pycharm": {
     "name": "#%%\n"
    }
   },
   "outputs": [],
   "source": [
    "transform = transforms.Compose([\n",
    "    transforms.ToTensor(),\n",
    "    transforms.Normalize((0.1307,), (0.3081,)),\n",
    "    # transforms.Grayscale(3),\n",
    "    # transforms.Normalize(mean=(0.5, 0.5, 0.5), std=(0.5, 0.5, 0.5))  # 归一化到(0,1) 分布到(-1,1)\n",
    "])\n",
    "dataset1 = torchvision.datasets.MNIST(root=\"../../data\", train=True, download=True, transform=transform)\n",
    "dataset2 = torchvision.datasets.MNIST(root=\"../../data\", train=False, download=False, transform=transform)\n",
    "\n",
    "train_loader: DataLoader = torch.utils.data.DataLoader(dataset1, batch_size=64, shuffle=True)\n",
    "test_loader: DataLoader = torch.utils.data.DataLoader(dataset2, batch_size=1000, shuffle=True)"
   ]
  },
  {
   "cell_type": "code",
   "execution_count": 3,
   "metadata": {
    "pycharm": {
     "name": "#%%\n"
    }
   },
   "outputs": [],
   "source": [
    "def train(model: nn.Module, device, train_loader, optimizer: torch.optim.Optimizer, epoch):\n",
    "    model.train()\n",
    "    for batch_idx, (data, target) in enumerate(train_loader):\n",
    "        data, target = data.to(device), target.to(device)\n",
    "        optimizer.zero_grad()\n",
    "\n",
    "        output = model(data)\n",
    "        loss = F.nll_loss(output, target)\n",
    "        loss.backward()\n",
    "\n",
    "        optimizer.step()\n",
    "\n",
    "        if batch_idx % 100 == 0:\n",
    "            # Train Epoch: 2 [16640/60000 (28%)]\tLoss: 0.142410\n",
    "            print('Train Epoch: {} [{}/{} ({:.0f}%)]\\tLoss: {:.6f}'.format(\n",
    "                epoch,\n",
    "                batch_idx * len(data), len(train_loader.dataset), 100. * batch_idx / len(train_loader),\n",
    "                loss.item()))\n",
    "\n",
    "\n",
    "def test(model: nn.Module, device, test_loader):\n",
    "    model.eval()\n",
    "    test_loss = 0\n",
    "    correct = 0\n",
    "    with torch.no_grad():\n",
    "        for data, target in test_loader:\n",
    "            data, target = data.to(device), target.to(device)\n",
    "            output = model(data)\n",
    "            test_loss += F.nll_loss(output, target, reduction='sum').item()\n",
    "            pred = output.argmax(dim=1, keepdims=True)\n",
    "            correct += pred.eq(target.view_as(pred)).sum().item()\n",
    "\n",
    "    test_loss /= len(test_loader.dataset)\n",
    "\n",
    "    # Test set: Average loss: 0.0483, Accuracy: 9849/10000 (98%)\n",
    "    print('\\nTest set: Average loss: {:.4f}, Accuracy: {}/{} ({:.0f}%)\\n'.format(\n",
    "        test_loss,\n",
    "        correct, len(test_loader.dataset), 100. * correct / len(test_loader.dataset)))"
   ]
  },
  {
   "cell_type": "code",
   "execution_count": 4,
   "metadata": {
    "pycharm": {
     "name": "#%%\n"
    }
   },
   "outputs": [],
   "source": [
    "class MyModel(nn.Module):  # e1 99%\n",
    "    def __init__(self) -> None:\n",
    "        super().__init__()\n",
    "        self.conv1 = nn.Conv2d(1, 32, kernel_size=(5, 5), stride=(1, 1), padding=(1, 1))\n",
    "        self.conv2 = nn.Conv2d(32, 64, kernel_size=(5, 5), stride=(1, 1), padding=(1, 1))\n",
    "        self.dropout1 = nn.Dropout(.25)\n",
    "        self.dropout2 = nn.Dropout(.5)\n",
    "        self.fc1 = nn.Linear(9216, 128)\n",
    "        self.fc2 = nn.Linear(128, 10)\n",
    "\n",
    "    def forward(self, x):  # batch_size=64, 1, 28, 28\n",
    "        x = self.conv1(x)  # 32, 26, 26\n",
    "        x = F.relu(x)\n",
    "        x = self.conv2(x)  # 64, 24, 24\n",
    "        x = F.relu(x)\n",
    "\n",
    "        x = F.max_pool2d(x, 2)  # 64, 12, 12\n",
    "        x = self.dropout1(x)\n",
    "        x = torch.flatten(x, 1)  # 9216\n",
    "        x = self.fc1(x)  # 64, 128\n",
    "        x = F.relu(x)\n",
    "        x = self.dropout2(x)\n",
    "        x = self.fc2(x)  # 10\n",
    "\n",
    "        x = F.log_softmax(x, dim=1)  # 10\n",
    "        return x"
   ]
  },
  {
   "cell_type": "code",
   "execution_count": 5,
   "metadata": {
    "pycharm": {
     "name": "#%%\n"
    }
   },
   "outputs": [
    {
     "name": "stdout",
     "output_type": "stream",
     "text": [
      "MyModel(\n",
      "  (conv1): Conv2d(1, 32, kernel_size=(5, 5), stride=(1, 1), padding=(1, 1))\n",
      "  (conv2): Conv2d(32, 64, kernel_size=(5, 5), stride=(1, 1), padding=(1, 1))\n",
      "  (dropout1): Dropout(p=0.25, inplace=False)\n",
      "  (dropout2): Dropout(p=0.5, inplace=False)\n",
      "  (fc1): Linear(in_features=9216, out_features=128, bias=True)\n",
      "  (fc2): Linear(in_features=128, out_features=10, bias=True)\n",
      ")\n"
     ]
    }
   ],
   "source": [
    "model = MyModel().cuda()\n",
    "print(model)\n",
    "\n",
    "optimizer = torch.optim.Adadelta(model.parameters(), lr=1)\n",
    "\n",
    "scheduler = StepLR(optimizer=optimizer, step_size=1, gamma=.7)"
   ]
  },
  {
   "cell_type": "code",
   "execution_count": 6,
   "metadata": {
    "pycharm": {
     "name": "#%%\n"
    }
   },
   "outputs": [
    {
     "name": "stdout",
     "output_type": "stream",
     "text": [
      "Train Epoch: 1 [0/60000 (0%)]\tLoss: 2.312395\n",
      "Train Epoch: 1 [6400/60000 (11%)]\tLoss: 0.282921\n",
      "Train Epoch: 1 [12800/60000 (21%)]\tLoss: 0.125455\n",
      "Train Epoch: 1 [19200/60000 (32%)]\tLoss: 0.131713\n",
      "Train Epoch: 1 [25600/60000 (43%)]\tLoss: 0.387455\n",
      "Train Epoch: 1 [32000/60000 (53%)]\tLoss: 0.062088\n",
      "Train Epoch: 1 [38400/60000 (64%)]\tLoss: 0.170414\n",
      "Train Epoch: 1 [44800/60000 (75%)]\tLoss: 0.019415\n",
      "Train Epoch: 1 [51200/60000 (85%)]\tLoss: 0.121637\n",
      "Train Epoch: 1 [57600/60000 (96%)]\tLoss: 0.229705\n",
      "\n",
      "Test set: Average loss: 0.0510, Accuracy: 9843/10000 (98%)\n",
      "\n"
     ]
    }
   ],
   "source": [
    "for epoch in range(1, 1 + 1):\n",
    "    train(model, device, train_loader, optimizer, epoch)\n",
    "    test(model, device, test_loader)\n",
    "    scheduler.step()"
   ]
  },
  {
   "cell_type": "code",
   "execution_count": 7,
   "outputs": [],
   "source": [
    "# model.cpu()\n",
    "# model.eval()\n",
    "# x, y = train_loader.dataset[0]\n",
    "# print(x.shape)\n",
    "# embeddings, logits = model(torch.flatten(x, -1))\n",
    "# print(embeddings, logits)\n",
    "# print(model.fc1)\n",
    "# parameters = list(model.fc1.parameters())\n",
    "# print(parameters)\n",
    "#\n",
    "# features = np.array(parameters)\n",
    "# data = pd.DataFrame(features)\n",
    "# tsne = TSNE()\n",
    "# tsne.fit_transform(data)\n",
    "# data = pd.DataFrame(tsne.embedding_, index=data.index)\n",
    "# data.to_pickle('./tsne.pkl')"
   ],
   "metadata": {
    "collapsed": false,
    "pycharm": {
     "name": "#%%\n"
    }
   }
  },
  {
   "cell_type": "code",
   "execution_count": 11,
   "metadata": {
    "pycharm": {
     "name": "#%%\n"
    }
   },
   "outputs": [
    {
     "data": {
      "text/plain": "<Figure size 432x288 with 2 Axes>",
      "image/png": "[encoded data removed]"
     },
     "metadata": {
      "needs_background": "light"
     },
     "output_type": "display_data"
    }
   ],
   "source": [
    "def get_data():\n",
    "    digits = datasets.load_digits(n_class=10)\n",
    "    return digits.data, digits.target\n",
    "\n",
    "\n",
    "features, target = get_data()\n",
    "\n",
    "tsne = TSNE(n_components=2)\n",
    "data = pd.DataFrame(features)  # shape = (1797, 64)\n",
    "tsne.fit_transform(data)\n",
    "data = pd.DataFrame(tsne.embedding_, index=data.index)  # shape = (1797, 2)\n",
    "\n",
    "plt.scatter(data[0], data[1], c=target, s=1, cmap=plt.cm.get_cmap('jet', 10))\n",
    "plt.colorbar(ticks=range(10))\n",
    "plt.clim(-.5, 9.5)\n",
    "plt.show()"
   ]
  },
  {
   "cell_type": "code",
   "execution_count": null,
   "metadata": {
    "pycharm": {
     "name": "#%%\n"
    }
   },
   "outputs": [],
   "source": [
    "# tsne_data = pd.read_pickle('./tsne.pkl')\n",
    "#\n",
    "# y_data = dataset1.test_labels\n",
    "# y_data = np.where(y_data == 1)[1] * (9.0 / 10)\n",
    "# plt.scatter(tsne[0], tsne[1], c=y_data, s=1, cmap=plt.cm.get_cmap('jet', 10))\n",
    "# plt.colorbar(ticks=range(10))\n",
    "# plt.clim(-.5, 9.5)\n",
    "# plt.show()"
   ]
  }
 ],
 "metadata": {
  "kernelspec": {
   "display_name": "Python 3 (ipykernel)",
   "language": "python",
   "name": "python3"
  },
  "language_info": {
   "codemirror_mode": {
    "name": "ipython",
    "version": 3
   },
   "file_extension": ".py",
   "mimetype": "text/x-python",
   "name": "python",
   "nbconvert_exporter": "python",
   "pygments_lexer": "ipython3",
   "version": "3.9.7"
  }
 },
 "nbformat": 4,
 "nbformat_minor": 1
}
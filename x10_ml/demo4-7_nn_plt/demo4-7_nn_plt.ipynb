{
 "cells": [
  {
   "cell_type": "markdown",
   "source": [
    "- Pytorch可视化特征图 https://blog.csdn.net/bby1987/article/details/109590108\n",
    "    - torch.nn.Module.register_forward_hook 获取到特征图\n",
    "    - torchvision.utils.make_grid 特征图拼接成一个网格状排列的大图\n",
    "    - torchvision.utils.save_image 保存图片\n"
   ],
   "metadata": {
    "collapsed": false,
    "pycharm": {
     "name": "#%% md\n"
    }
   }
  },
  {
   "cell_type": "code",
   "execution_count": 6,
   "outputs": [],
   "source": [
    "import torch\n",
    "import torchvision"
   ],
   "metadata": {
    "collapsed": false,
    "pycharm": {
     "name": "#%%\n"
    }
   }
  },
  {
   "cell_type": "code",
   "execution_count": null,
   "outputs": [],
   "source": [
    "def hook_func(module, input, output):\n",
    "    \"\"\"\n",
    "    Hook function of register_forward_hook\n",
    "    :param module: module of neural network\n",
    "    :param input: input of module\n",
    "    :param output: output of module\n",
    "    :return:\n",
    "    \"\"\"\n",
    "    data = output.clone().detach()\n",
    "    data = data.permute(1, 0, 2, 3)\n",
    "    torchvision.utils.make_grid(data, pad_value=0.5)"
   ],
   "metadata": {
    "collapsed": false,
    "pycharm": {
     "name": "#%%\n"
    }
   }
  },
  {
   "cell_type": "code",
   "execution_count": null,
   "outputs": [],
   "source": [
    "model = torchvision.models.resnet18(pretrained=True)\n",
    "model.eval()\n",
    "\n",
    "modules_for_plot = (torch.nn.ReLU, torch.nn.Conv2d, torch.nn.MaxPool2d, torch.nn.AdaptiveAvgPool2d)\n",
    "\n",
    "for name, module in model.named_modules():\n",
    "    if isinstance(module, modules_for_plot):\n",
    "        module.register_forward_hook(hook_func)\n"
   ],
   "metadata": {
    "collapsed": false,
    "pycharm": {
     "name": "#%%\n"
    }
   }
  }
 ],
 "metadata": {
  "kernelspec": {
   "display_name": "Python 3",
   "language": "python",
   "name": "python3"
  },
  "language_info": {
   "codemirror_mode": {
    "name": "ipython",
    "version": 2
   },
   "file_extension": ".py",
   "mimetype": "text/x-python",
   "name": "python",
   "nbconvert_exporter": "python",
   "pygments_lexer": "ipython2",
   "version": "2.7.6"
  }
 },
 "nbformat": 4,
 "nbformat_minor": 0
}
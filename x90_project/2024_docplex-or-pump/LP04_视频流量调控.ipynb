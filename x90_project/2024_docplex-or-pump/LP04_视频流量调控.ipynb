{
 "cells": [
  {
   "cell_type": "markdown",
   "source": [
    "LP专题-04：广告流量分配：曝光和转化均衡 [](https://opt.aliyun.com/example/q6VfqijIRnyi/path/src-LP04_视频流量调控_solver_Python_api.ipynb)\n",
    "\n",
    "![](LP04_视频流量调控.png)"
   ],
   "metadata": {
    "collapsed": false
   },
   "id": "f7f8d30a39dd32cf"
  },
  {
   "cell_type": "code",
   "execution_count": 87,
   "outputs": [
    {
     "name": "stdout",
     "output_type": "stream",
     "text": [
      "{(0, 0): docplex.mp.Var(type=C,name='x_0_0',ub=1),\n",
      " (0, 1): docplex.mp.Var(type=C,name='x_0_1',ub=1),\n",
      " (1, 0): docplex.mp.Var(type=C,name='x_1_0',ub=1),\n",
      " (1, 1): docplex.mp.Var(type=C,name='x_1_1',ub=1),\n",
      " (2, 0): docplex.mp.Var(type=C,name='x_2_0',ub=1),\n",
      " (2, 1): docplex.mp.Var(type=C,name='x_2_1',ub=1)}\n"
     ]
    },
    {
     "data": {
      "text/plain": "   column_i  column_j  solution_value\n0         0         0        0.000000\n1         1         0        0.000000\n2         2         0        1.000000\n3         0         1        0.000000\n4         1         1        0.802198\n5         2         1        0.197802",
      "text/html": "<div>\n<style scoped>\n    .dataframe tbody tr th:only-of-type {\n        vertical-align: middle;\n    }\n\n    .dataframe tbody tr th {\n        vertical-align: top;\n    }\n\n    .dataframe thead th {\n        text-align: right;\n    }\n</style>\n<table border=\"1\" class=\"dataframe\">\n  <thead>\n    <tr style=\"text-align: right;\">\n      <th></th>\n      <th>column_i</th>\n      <th>column_j</th>\n      <th>solution_value</th>\n    </tr>\n  </thead>\n  <tbody>\n    <tr>\n      <th>0</th>\n      <td>0</td>\n      <td>0</td>\n      <td>0.000000</td>\n    </tr>\n    <tr>\n      <th>1</th>\n      <td>1</td>\n      <td>0</td>\n      <td>0.000000</td>\n    </tr>\n    <tr>\n      <th>2</th>\n      <td>2</td>\n      <td>0</td>\n      <td>1.000000</td>\n    </tr>\n    <tr>\n      <th>3</th>\n      <td>0</td>\n      <td>1</td>\n      <td>0.000000</td>\n    </tr>\n    <tr>\n      <th>4</th>\n      <td>1</td>\n      <td>1</td>\n      <td>0.802198</td>\n    </tr>\n    <tr>\n      <th>5</th>\n      <td>2</td>\n      <td>1</td>\n      <td>0.197802</td>\n    </tr>\n  </tbody>\n</table>\n</div>"
     },
     "execution_count": 87,
     "metadata": {},
     "output_type": "execute_result"
    }
   ],
   "source": [
    "from pprint import pprint\n",
    "\n",
    "import docplex.mp.model as cpx\n",
    "import pandas as pd\n",
    "\n",
    "iIdx = [0, 1, 2]\n",
    "jIdx = [0, 1]\n",
    "ctr = {\n",
    "    (0, 0): 0.52,\n",
    "    (0, 1): 0.92,\n",
    "    (1, 0): 0.31,\n",
    "    (1, 1): 0.93,\n",
    "    (2, 0): 0.82,\n",
    "    (2, 1): 0.91,\n",
    "}\n",
    "vMin = {\n",
    "    # i: 1 if i == 2 else 0 for i in iIdx\n",
    "    0: 0,\n",
    "    1: 0,\n",
    "    2: 1,\n",
    "}\n",
    "\n",
    "model = cpx.Model(name=\"MIP Model\")\n",
    "\n",
    "# if x is Continuous\n",
    "xArr = {\n",
    "    (i, j): model.continuous_var(\n",
    "        lb=0.0, ub=1, name=\"x_{0}_{1}\".format(i, j)\n",
    "    )\n",
    "    for j in jIdx\n",
    "    for i in iIdx\n",
    "}\n",
    "\n",
    "# <= constraints，小于等于\n",
    "constraints = []\n",
    "for i in iIdx:\n",
    "    constraints.append(model.add_constraint(\n",
    "        ct=model.sum(ctr[i, j] * xArr[i, j] for j in jIdx) >= vMin[i],\n",
    "        ctname=\"constraint_0_{0}\".format(i),\n",
    "    ))\n",
    "for j in jIdx:\n",
    "    constraints.append(model.add_constraint(\n",
    "        ct=model.sum(xArr[i, j] for i in iIdx) == 1,\n",
    "        ctname=\"constraint_1_{0}\".format(j),\n",
    "    ))\n",
    "\n",
    "objective = model.sum(ctr[i, j] * xArr[i, j] for i in iIdx for j in jIdx)\n",
    "\n",
    "# for maximization\n",
    "model.maximize(objective)\n",
    "\n",
    "# solving with local cplex\n",
    "model.solve()\n",
    "\n",
    "pprint(xArr)\n",
    "# output\n",
    "df = pd.DataFrame.from_dict(xArr, orient=\"index\", columns=[\"variable_object\"])\n",
    "df.index = pd.MultiIndex.from_tuples(df.index, names=[\"column_i\", \"column_j\"])\n",
    "df.reset_index(inplace=True)\n",
    "\n",
    "# CPLEX\n",
    "df[\"solution_value\"] = df[\"variable_object\"].apply(lambda item: item.solution_value)\n",
    "\n",
    "df.drop(columns=[\"variable_object\"], inplace=True)\n",
    "# df.to_csv(\"./optimization_solution.csv\")\n",
    "\n",
    "df"
   ],
   "metadata": {
    "collapsed": false,
    "ExecuteTime": {
     "end_time": "2023-09-26T09:49:16.560545700Z",
     "start_time": "2023-09-26T09:49:16.523555Z"
    }
   },
   "id": "2c3191ba0f77c311"
  }
 ],
 "metadata": {
  "kernelspec": {
   "display_name": "Python 3",
   "language": "python",
   "name": "python3"
  },
  "language_info": {
   "codemirror_mode": {
    "name": "ipython",
    "version": 2
   },
   "file_extension": ".py",
   "mimetype": "text/x-python",
   "name": "python",
   "nbconvert_exporter": "python",
   "pygments_lexer": "ipython2",
   "version": "2.7.6"
  }
 },
 "nbformat": 4,
 "nbformat_minor": 5
}

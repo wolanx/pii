{
 "cells": [
  {
   "cell_type": "markdown",
   "source": [
    "10h, 1/h 5/h 9/h 几种档位, 如何最省的情况下, 达到 33 的水\n",
    "\n",
    "$$\n",
    "min \\sum_{h=0}^\\infty cost_h^m\n",
    "$$\n",
    "\n",
    "s.t.\n",
    "$$ \\sum_{h=0}^\\infty flow_h^m >= 33 $$"
   ],
   "metadata": {
    "collapsed": false
   },
   "id": "c775463d16a5550"
  },
  {
   "cell_type": "code",
   "execution_count": 20,
   "id": "initial_id",
   "metadata": {
    "collapsed": true,
    "ExecuteTime": {
     "end_time": "2024-03-05T09:14:17.441709700Z",
     "start_time": "2024-03-05T09:14:17.343875800Z"
    }
   },
   "outputs": [
    {
     "name": "stdout",
     "output_type": "stream",
     "text": [
      "objective: 35\n",
      "status: OPTIMAL_SOLUTION(2)\n",
      "  h:0-m:0=1\n",
      "  h:1-m:1=1\n",
      "  h:2-m:0=1\n",
      "  h:3-m:0=1\n",
      "  h:4-m:0=1\n",
      "  h:5-m:0=1\n",
      "  h:6-m:5=1\n",
      "  h:7-m:9=1\n",
      "  h:8-m:9=1\n",
      "  h:9-m:9=1\n"
     ]
    }
   ],
   "source": [
    "import pandas as pd\n",
    "from docplex.mp.model import Model\n",
    "\n",
    "hourArr = [0, 1, 2, 3, 4, 5, 6, 7, 8, 9]  # 10 个小时\n",
    "modeArr = [0, 1, 5, 9] # 4 档位，【关，小，中，大】\n",
    "mCost = {\n",
    "    0: 0,\n",
    "    1: 2,\n",
    "    5: 6,\n",
    "    9: 9,\n",
    "}\n",
    "\n",
    "model = Model(name=\"Demo\")\n",
    "\n",
    "# x0 = model.integer_var_dict(hourArr, lb=0, ub=2, name=\"h\")\n",
    "x0 = {(h, m): model.binary_var(name=f\"h:{h}-m:{m}\") for h in hourArr for m in modeArr}\n",
    "\n",
    "# cons\n",
    "model.add_constraint(\n",
    "    ct=model.sum(x0[one] for one in x0) <= 10,\n",
    "    ctname=\"cons_0\",\n",
    ")\n",
    "model.add_constraint(\n",
    "    ct=model.sum(x0[h, m] * m for h, m in x0) >= 33,\n",
    "    ctname=f\"cons_100\",\n",
    ")\n",
    "for h in hourArr:\n",
    "    model.add_constraint(\n",
    "        ct=model.sum(x0[h, m] for m in modeArr) == 1,\n",
    "        ctname=f\"cons_h_{h}\",\n",
    "    )\n",
    "\n",
    "# target\n",
    "model.minimize(model.sum(x0[h, m] * mCost[m] for h, m in x0))\n",
    "model.solve() # log_output=True\n",
    "model.print_solution()"
   ]
  },
  {
   "cell_type": "code",
   "outputs": [],
   "source": [
    "model.print_information()\n",
    "\n",
    "# output\n",
    "df = pd.DataFrame.from_dict(x0, orient=\"index\", columns=[\"variable_object\"])\n",
    "df.index = pd.MultiIndex.from_tuples(df.index, names=[\"hour\", \"flow\"])\n",
    "df.reset_index(inplace=True)\n",
    "\n",
    "df[\"solution_value\"] = df[\"variable_object\"].apply(lambda item: item.solution_value)\n",
    "df.drop(columns=[\"variable_object\"], inplace=True)\n",
    "# print(df)"
   ],
   "metadata": {
    "collapsed": false,
    "ExecuteTime": {
     "end_time": "2024-03-05T08:41:10.419372Z",
     "start_time": "2024-03-05T08:41:10.380489400Z"
    }
   },
   "id": "521e4b45856332ad",
   "execution_count": 2
  }
 ],
 "metadata": {
  "kernelspec": {
   "display_name": "Python 3",
   "language": "python",
   "name": "python3"
  },
  "language_info": {
   "codemirror_mode": {
    "name": "ipython",
    "version": 2
   },
   "file_extension": ".py",
   "mimetype": "text/x-python",
   "name": "python",
   "nbconvert_exporter": "python",
   "pygments_lexer": "ipython2",
   "version": "2.7.6"
  }
 },
 "nbformat": 4,
 "nbformat_minor": 5
}

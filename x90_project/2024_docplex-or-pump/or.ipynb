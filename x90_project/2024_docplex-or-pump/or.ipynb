{
 "cells": [
  {
   "cell_type": "markdown",
   "source": [
    "- 国内外优化求解器 https://zhuanlan.zhihu.com/p/575953675\n",
    "- python运筹优化实践1-8 https://www.zhihu.com/column/c_1060904037507006464\n",
    "    - Cplex for python使用简介 https://zhuanlan.zhihu.com/p/124422566\n",
    "- 案例广场案例 https://opt.aliyun.com/platform/case\n",
    "- 线性规划-专题多篇 https://help.aliyun.com/document_detail/298212.html\n",
    "\n",
    "```shell\n",
    "pip install docplex\n",
    "pip install cplex\n",
    "```"
   ],
   "metadata": {
    "collapsed": false
   },
   "id": "2f8c3c3399bb011f"
  },
  {
   "cell_type": "code",
   "execution_count": 2,
   "id": "initial_id",
   "metadata": {
    "collapsed": true,
    "ExecuteTime": {
     "end_time": "2024-03-04T05:28:30.958006Z",
     "start_time": "2024-03-04T05:28:29.294837Z"
    }
   },
   "outputs": [
    {
     "data": {
      "text/plain": "    column_i  column_j  solution_value\n0          1         1       18.000000\n1          1         2        9.000000\n2          1         3        3.000000\n3          1         4        7.000000\n4          1         5       20.000000\n5          2         1       10.000000\n6          2         2       13.000000\n7          2         3        8.000000\n8          2         4        4.000000\n9          2         5       19.000000\n10         3         1       14.000000\n11         3         2       20.000000\n12         3         3        9.000000\n13         3         4        2.000000\n14         3         5       12.000000\n15         4         1        8.000000\n16         4         2       13.000000\n17         4         3        4.000000\n18         4         4        9.975262\n19         4         5        0.000000\n20         5         1        9.000000\n21         5         2       20.000000\n22         5         3       16.000000\n23         5         4        7.000000\n24         5         5       15.000000\n25         6         1       10.000000\n26         6         2       17.000000\n27         6         3        9.000000\n28         6         4       15.000000\n29         6         5        2.000000\n30         7         1        9.000000\n31         7         2       18.000000\n32         7         3       15.000000\n33         7         4       19.000000\n34         7         5        7.000000\n35         8         1        1.000000\n36         8         2       12.000000\n37         8         3       14.000000\n38         8         4        3.000000\n39         8         5        0.000000\n40         9         1        6.000000\n41         9         2        1.000000\n42         9         3       19.000000\n43         9         4        5.000000\n44         9         5       13.000000\n45        10         1       11.000000\n46        10         2       14.000000\n47        10         3        1.000000\n48        10         4        8.000000\n49        10         5        9.000000",
      "text/html": "<div>\n<style scoped>\n    .dataframe tbody tr th:only-of-type {\n        vertical-align: middle;\n    }\n\n    .dataframe tbody tr th {\n        vertical-align: top;\n    }\n\n    .dataframe thead th {\n        text-align: right;\n    }\n</style>\n<table border=\"1\" class=\"dataframe\">\n  <thead>\n    <tr style=\"text-align: right;\">\n      <th></th>\n      <th>column_i</th>\n      <th>column_j</th>\n      <th>solution_value</th>\n    </tr>\n  </thead>\n  <tbody>\n    <tr>\n      <th>0</th>\n      <td>1</td>\n      <td>1</td>\n      <td>18.000000</td>\n    </tr>\n    <tr>\n      <th>1</th>\n      <td>1</td>\n      <td>2</td>\n      <td>9.000000</td>\n    </tr>\n    <tr>\n      <th>2</th>\n      <td>1</td>\n      <td>3</td>\n      <td>3.000000</td>\n    </tr>\n    <tr>\n      <th>3</th>\n      <td>1</td>\n      <td>4</td>\n      <td>7.000000</td>\n    </tr>\n    <tr>\n      <th>4</th>\n      <td>1</td>\n      <td>5</td>\n      <td>20.000000</td>\n    </tr>\n    <tr>\n      <th>5</th>\n      <td>2</td>\n      <td>1</td>\n      <td>10.000000</td>\n    </tr>\n    <tr>\n      <th>6</th>\n      <td>2</td>\n      <td>2</td>\n      <td>13.000000</td>\n    </tr>\n    <tr>\n      <th>7</th>\n      <td>2</td>\n      <td>3</td>\n      <td>8.000000</td>\n    </tr>\n    <tr>\n      <th>8</th>\n      <td>2</td>\n      <td>4</td>\n      <td>4.000000</td>\n    </tr>\n    <tr>\n      <th>9</th>\n      <td>2</td>\n      <td>5</td>\n      <td>19.000000</td>\n    </tr>\n    <tr>\n      <th>10</th>\n      <td>3</td>\n      <td>1</td>\n      <td>14.000000</td>\n    </tr>\n    <tr>\n      <th>11</th>\n      <td>3</td>\n      <td>2</td>\n      <td>20.000000</td>\n    </tr>\n    <tr>\n      <th>12</th>\n      <td>3</td>\n      <td>3</td>\n      <td>9.000000</td>\n    </tr>\n    <tr>\n      <th>13</th>\n      <td>3</td>\n      <td>4</td>\n      <td>2.000000</td>\n    </tr>\n    <tr>\n      <th>14</th>\n      <td>3</td>\n      <td>5</td>\n      <td>12.000000</td>\n    </tr>\n    <tr>\n      <th>15</th>\n      <td>4</td>\n      <td>1</td>\n      <td>8.000000</td>\n    </tr>\n    <tr>\n      <th>16</th>\n      <td>4</td>\n      <td>2</td>\n      <td>13.000000</td>\n    </tr>\n    <tr>\n      <th>17</th>\n      <td>4</td>\n      <td>3</td>\n      <td>4.000000</td>\n    </tr>\n    <tr>\n      <th>18</th>\n      <td>4</td>\n      <td>4</td>\n      <td>9.975262</td>\n    </tr>\n    <tr>\n      <th>19</th>\n      <td>4</td>\n      <td>5</td>\n      <td>0.000000</td>\n    </tr>\n    <tr>\n      <th>20</th>\n      <td>5</td>\n      <td>1</td>\n      <td>9.000000</td>\n    </tr>\n    <tr>\n      <th>21</th>\n      <td>5</td>\n      <td>2</td>\n      <td>20.000000</td>\n    </tr>\n    <tr>\n      <th>22</th>\n      <td>5</td>\n      <td>3</td>\n      <td>16.000000</td>\n    </tr>\n    <tr>\n      <th>23</th>\n      <td>5</td>\n      <td>4</td>\n      <td>7.000000</td>\n    </tr>\n    <tr>\n      <th>24</th>\n      <td>5</td>\n      <td>5</td>\n      <td>15.000000</td>\n    </tr>\n    <tr>\n      <th>25</th>\n      <td>6</td>\n      <td>1</td>\n      <td>10.000000</td>\n    </tr>\n    <tr>\n      <th>26</th>\n      <td>6</td>\n      <td>2</td>\n      <td>17.000000</td>\n    </tr>\n    <tr>\n      <th>27</th>\n      <td>6</td>\n      <td>3</td>\n      <td>9.000000</td>\n    </tr>\n    <tr>\n      <th>28</th>\n      <td>6</td>\n      <td>4</td>\n      <td>15.000000</td>\n    </tr>\n    <tr>\n      <th>29</th>\n      <td>6</td>\n      <td>5</td>\n      <td>2.000000</td>\n    </tr>\n    <tr>\n      <th>30</th>\n      <td>7</td>\n      <td>1</td>\n      <td>9.000000</td>\n    </tr>\n    <tr>\n      <th>31</th>\n      <td>7</td>\n      <td>2</td>\n      <td>18.000000</td>\n    </tr>\n    <tr>\n      <th>32</th>\n      <td>7</td>\n      <td>3</td>\n      <td>15.000000</td>\n    </tr>\n    <tr>\n      <th>33</th>\n      <td>7</td>\n      <td>4</td>\n      <td>19.000000</td>\n    </tr>\n    <tr>\n      <th>34</th>\n      <td>7</td>\n      <td>5</td>\n      <td>7.000000</td>\n    </tr>\n    <tr>\n      <th>35</th>\n      <td>8</td>\n      <td>1</td>\n      <td>1.000000</td>\n    </tr>\n    <tr>\n      <th>36</th>\n      <td>8</td>\n      <td>2</td>\n      <td>12.000000</td>\n    </tr>\n    <tr>\n      <th>37</th>\n      <td>8</td>\n      <td>3</td>\n      <td>14.000000</td>\n    </tr>\n    <tr>\n      <th>38</th>\n      <td>8</td>\n      <td>4</td>\n      <td>3.000000</td>\n    </tr>\n    <tr>\n      <th>39</th>\n      <td>8</td>\n      <td>5</td>\n      <td>0.000000</td>\n    </tr>\n    <tr>\n      <th>40</th>\n      <td>9</td>\n      <td>1</td>\n      <td>6.000000</td>\n    </tr>\n    <tr>\n      <th>41</th>\n      <td>9</td>\n      <td>2</td>\n      <td>1.000000</td>\n    </tr>\n    <tr>\n      <th>42</th>\n      <td>9</td>\n      <td>3</td>\n      <td>19.000000</td>\n    </tr>\n    <tr>\n      <th>43</th>\n      <td>9</td>\n      <td>4</td>\n      <td>5.000000</td>\n    </tr>\n    <tr>\n      <th>44</th>\n      <td>9</td>\n      <td>5</td>\n      <td>13.000000</td>\n    </tr>\n    <tr>\n      <th>45</th>\n      <td>10</td>\n      <td>1</td>\n      <td>11.000000</td>\n    </tr>\n    <tr>\n      <th>46</th>\n      <td>10</td>\n      <td>2</td>\n      <td>14.000000</td>\n    </tr>\n    <tr>\n      <th>47</th>\n      <td>10</td>\n      <td>3</td>\n      <td>1.000000</td>\n    </tr>\n    <tr>\n      <th>48</th>\n      <td>10</td>\n      <td>4</td>\n      <td>8.000000</td>\n    </tr>\n    <tr>\n      <th>49</th>\n      <td>10</td>\n      <td>5</td>\n      <td>9.000000</td>\n    </tr>\n  </tbody>\n</table>\n</div>"
     },
     "execution_count": 2,
     "metadata": {},
     "output_type": "execute_result"
    }
   ],
   "source": [
    "import random\n",
    "\n",
    "import docplex.mp.model as cpx\n",
    "import pandas as pd\n",
    "\n",
    "iIdx = range(1, 10 + 1)\n",
    "jIdx = range(1, 5 + 1)\n",
    "xMin = {(i, j): random.randint(0, 10) for i in iIdx for j in jIdx}\n",
    "xMax = {(i, j): random.randint(10, 20) for i in iIdx for j in jIdx}\n",
    "cost = {(i, j): random.normalvariate(0, 1) for i in iIdx for j in jIdx}\n",
    "varA = {(i, j): random.normalvariate(0, 5) for i in iIdx for j in jIdx}\n",
    "varB = {j: random.randint(0, 30) for j in jIdx}\n",
    "\n",
    "model = cpx.Model(name=\"MIP Model\")\n",
    "\n",
    "# if x is Continuous\n",
    "xArr = {\n",
    "    (i, j): model.continuous_var(\n",
    "        lb=xMin[i, j], ub=xMax[i, j], name=\"x_{0}_{1}\".format(i, j)\n",
    "    )\n",
    "    for i in iIdx\n",
    "    for j in jIdx\n",
    "}\n",
    "\n",
    "# <= constraints，小于等于\n",
    "constraints = {\n",
    "    j: model.add_constraint(\n",
    "        ct=model.sum(varA[i, j] * xArr[i, j] for i in iIdx) <= varB[j],\n",
    "        ctname=\"constraint_{0}\".format(j),\n",
    "    )\n",
    "    for j in jIdx\n",
    "}\n",
    "\n",
    "objective = model.sum(xArr[i, j] * cost[i, j] for i in iIdx for j in jIdx)\n",
    "\n",
    "# for maximization\n",
    "model.maximize(objective)\n",
    "\n",
    "# solving with local cplex\n",
    "model.solve()\n",
    "\n",
    "# output\n",
    "df = pd.DataFrame.from_dict(xArr, orient=\"index\", columns=[\"variable_object\"])\n",
    "df.index = pd.MultiIndex.from_tuples(df.index, names=[\"column_i\", \"column_j\"])\n",
    "df.reset_index(inplace=True)\n",
    "\n",
    "# CPLEX\n",
    "df[\"solution_value\"] = df[\"variable_object\"].apply(lambda item: item.solution_value)\n",
    "\n",
    "df.drop(columns=[\"variable_object\"], inplace=True)\n",
    "# df.to_csv(\"./optimization_solution.csv\")\n",
    "\n",
    "df"
   ]
  }
 ],
 "metadata": {
  "kernelspec": {
   "display_name": "Python 3",
   "language": "python",
   "name": "python3"
  },
  "language_info": {
   "codemirror_mode": {
    "name": "ipython",
    "version": 2
   },
   "file_extension": ".py",
   "mimetype": "text/x-python",
   "name": "python",
   "nbconvert_exporter": "python",
   "pygments_lexer": "ipython2",
   "version": "2.7.6"
  }
 },
 "nbformat": 4,
 "nbformat_minor": 5
}

{
 "cells": [
  {
   "cell_type": "code",
   "execution_count": 34,
   "metadata": {
    "collapsed": true
   },
   "outputs": [
    {
     "name": "stdout",
     "output_type": "stream",
     "text": [
      "Using cpu device\n"
     ]
    }
   ],
   "source": [
    "# 第二章 神经网络深⼊\n",
    "# 第2节【实战】拟合问题\n",
    "\n",
    "%matplotlib inline\n",
    "import numpy as np\n",
    "import torch\n",
    "from torch import nn\n",
    "\n",
    "from utils import plot_points\n",
    "\n",
    "device = \"cuda\" if torch.cuda.is_available() else \"cpu\"\n",
    "print(f\"Using {device} device\")"
   ]
  },
  {
   "cell_type": "code",
   "execution_count": 35,
   "outputs": [],
   "source": [
    "x_train = np.array([[3.3], [4.4], [5.5], [6.71], [6.93], [4.168],\n",
    "                    [9.779], [6.182], [7.59], [2.167], [7.042],\n",
    "                    [10.791], [5.313], [7.997], [3.1]], dtype=np.float32)\n",
    "\n",
    "y_train = np.array([[1.7], [2.76], [2.09], [3.19], [1.694], [1.573],\n",
    "                    [3.366], [2.596], [2.53], [1.221], [2.827],\n",
    "                    [3.465], [1.65], [2.904], [1.3]], dtype=np.float32)"
   ],
   "metadata": {
    "collapsed": false,
    "pycharm": {
     "name": "#%%\n"
    }
   }
  },
  {
   "cell_type": "code",
   "execution_count": 36,
   "outputs": [],
   "source": [
    "class LineModel(nn.Module):\n",
    "    def __init__(self) -> None:\n",
    "        super(LineModel, self).__init__()\n",
    "        self.ll = nn.Linear(in_features=1, out_features=1)\n",
    "\n",
    "    def forward(self, x):\n",
    "        return self.ll(x)\n",
    "\n",
    "\n",
    "# model = nn.Linear(in_features=1, out_features=1)\n",
    "model = LineModel()\n",
    "loss_fn = nn.MSELoss()  # 最小二乘\n",
    "optimizer = torch.optim.SGD(model.parameters(), lr=.01)\n",
    "\n",
    "\n",
    "def train(model: nn.Module, loss, optimizer):\n",
    "    model.train()"
   ],
   "metadata": {
    "collapsed": false,
    "pycharm": {
     "name": "#%%\n"
    }
   }
  },
  {
   "cell_type": "code",
   "execution_count": 37,
   "outputs": [],
   "source": [
    "inputs = torch.from_numpy(x_train)\n",
    "targets = torch.from_numpy(y_train)\n",
    "# inputs, targets"
   ],
   "metadata": {
    "collapsed": false,
    "pycharm": {
     "name": "#%%\n"
    }
   }
  },
  {
   "cell_type": "code",
   "execution_count": 38,
   "outputs": [
    {
     "name": "stdout",
     "output_type": "stream",
     "text": [
      "Epoch [50/1000], Loss: 0.1811\n",
      "Epoch [100/1000], Loss: 0.1783\n",
      "Epoch [150/1000], Loss: 0.1762\n",
      "Epoch [200/1000], Loss: 0.1745\n",
      "Epoch [250/1000], Loss: 0.1733\n",
      "Epoch [300/1000], Loss: 0.1723\n",
      "Epoch [350/1000], Loss: 0.1715\n",
      "Epoch [400/1000], Loss: 0.1709\n",
      "Epoch [450/1000], Loss: 0.1705\n",
      "Epoch [500/1000], Loss: 0.1701\n",
      "Epoch [550/1000], Loss: 0.1698\n",
      "Epoch [600/1000], Loss: 0.1696\n",
      "Epoch [650/1000], Loss: 0.1695\n",
      "Epoch [700/1000], Loss: 0.1693\n",
      "Epoch [750/1000], Loss: 0.1692\n",
      "Epoch [800/1000], Loss: 0.1692\n",
      "Epoch [850/1000], Loss: 0.1691\n",
      "Epoch [900/1000], Loss: 0.1691\n",
      "Epoch [950/1000], Loss: 0.1690\n",
      "Epoch [1000/1000], Loss: 0.1690\n"
     ]
    }
   ],
   "source": [
    "epochs = 1000\n",
    "for epoch in range(epochs):\n",
    "    outputs = model(inputs)\n",
    "    loss = loss_fn(outputs, targets)\n",
    "\n",
    "    optimizer.zero_grad()\n",
    "    loss.backward()\n",
    "    optimizer.step()\n",
    "\n",
    "    if (epoch + 1) % 50 == 0:\n",
    "        print('Epoch [{}/{}], Loss: {:.4f}'.format(epoch + 1, epochs, loss.item()))"
   ],
   "metadata": {
    "collapsed": false,
    "pycharm": {
     "name": "#%%\n"
    }
   }
  },
  {
   "cell_type": "code",
   "execution_count": 39,
   "outputs": [
    {
     "data": {
      "text/plain": "OrderedDict([('ll.weight', tensor([[0.2638]])), ('ll.bias', tensor([0.7212]))])"
     },
     "execution_count": 39,
     "metadata": {},
     "output_type": "execute_result"
    }
   ],
   "source": [
    "model.state_dict()\n",
    "# torch.save(m odel.state_dict(), \"model.pth\")\n",
    "# model.load_state_dict(torch.load(\"model.pth\"))"
   ],
   "metadata": {
    "collapsed": false,
    "pycharm": {
     "name": "#%%\n"
    }
   }
  },
  {
   "cell_type": "code",
   "execution_count": 40,
   "outputs": [
    {
     "data": {
      "text/plain": "[Parameter containing:\n tensor([[0.2638]], requires_grad=True),\n Parameter containing:\n tensor([0.7212], requires_grad=True)]"
     },
     "execution_count": 40,
     "metadata": {},
     "output_type": "execute_result"
    },
    {
     "data": {
      "text/plain": "<Figure size 432x288 with 1 Axes>",
      "image/png": "[encoded data removed]"
     },
     "metadata": {
      "needs_background": "light"
     },
     "output_type": "display_data"
    }
   ],
   "source": [
    "plot_points(x_train, y_train, 'test')\n",
    "y2 = model(torch.from_numpy(x_train)).detach().numpy()\n",
    "plot_points(x_train, y2, 'test')\n",
    "# plot_line(model.parameters(), 'test')\n",
    "list(model.parameters())"
   ],
   "metadata": {
    "collapsed": false,
    "pycharm": {
     "name": "#%%\n"
    }
   }
  }
 ],
 "metadata": {
  "kernelspec": {
   "display_name": "Python 3",
   "language": "python",
   "name": "python3"
  },
  "language_info": {
   "codemirror_mode": {
    "name": "ipython",
    "version": 2
   },
   "file_extension": ".py",
   "mimetype": "text/x-python",
   "name": "python",
   "nbconvert_exporter": "python",
   "pygments_lexer": "ipython2",
   "version": "2.7.6"
  }
 },
 "nbformat": 4,
 "nbformat_minor": 0
}